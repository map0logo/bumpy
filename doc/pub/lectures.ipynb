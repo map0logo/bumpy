{
 "metadata": {},
 "nbformat": 3,
 "nbformat_minor": 0,
 "worksheets": [
  {
   "cells": [
    {
     "cell_type": "markdown",
     "metadata": {},
     "source": [
      "# Intro to scientific Python programming\n",
      "**Jan 9, 2015**\n",
      "\n",
      "\n",
      "\n",
      "\n",
      "\n",
      "\n",
      "\n",
      "\n",
      "### This is a very quick intro to Python programming\n",
      "\n",
      " * variables for numbers, lists, and arrays\n",
      "\n",
      " * while loops and for loops\n",
      "\n",
      " * functions\n",
      "\n",
      " * if tests\n",
      "\n",
      " * plotting\n",
      "\n",
      "Method: show program code through math examples\n",
      "\n",
      "\n",
      "## Variables, loops, lists, and arrays\n",
      "<a name=\"basics:basic:objects\"></a>\n",
      "\n",
      "\n",
      "<p></p>\n",
      "<img src=\"fig-bumpy/implementation5.jpg\" width=500>\n",
      "\n",
      "\n",
      "\n",
      "### Do you have access to Python?\n",
      "<a name=\"basics:accesspy\"></a>\n",
      "\n",
      "Many methods:\n",
      "\n",
      " * Mac and Windows: [Anaconda](https://store.continuum.io/cshop/anaconda/)\n",
      "\n",
      " * Ubuntu: `sudo apt-get install`\n",
      "\n",
      " * Web browser\n",
      "\n",
      "See [How to access Python for doing scientific computing](http://hplgit.github.io/edu/accesspy/accesspy.html) for more details!\n",
      "\n",
      "### Mathematical example\n",
      "\n",
      "Most examples will involve this formula:"
     ]
    },
    {
     "cell_type": "markdown",
     "metadata": {},
     "source": [
      "<!-- Equation labels as ordinary links -->\n",
      "<a name=\"basics:seq\"></a>\n",
      "\n",
      "$$\n",
      "\\begin{equation}\n",
      "\\label{basics:seq} \\tag{1}\n",
      "s = v_0t + \\frac{1}{2}at^2\n",
      "\\end{equation}\n",
      "$$"
     ]
    },
    {
     "cell_type": "markdown",
     "metadata": {},
     "source": [
      "We may view $s$ as a function of $t$: $s(t)$, and also include the\n",
      "parameters in the notation: $s(t;v_0,a)$.\n",
      "\n",
      "### A program for evaluating a formula\n",
      "<a name=\"basics:formula:eval\"></a>\n",
      "\n",
      "\n",
      "**Task.**\n",
      "\n",
      "Compute $s$ for $t=0.5$, $v_0=2$, and $a=0.2$.\n",
      "\n",
      "\n",
      "\n",
      "**Code.**"
     ]
    },
    {
     "cell_type": "code",
     "collapsed": false,
     "input": [
      "t = 0.5\n",
      "v0 = 2\n",
      "a = 0.2\n",
      "s = v0*t + 0.5*a*t**2\n",
      "print s\n"
     ],
     "language": "python",
     "metadata": {},
     "outputs": [],
     "prompt_number": 1
    },
    {
     "cell_type": "markdown",
     "metadata": {},
     "source": [
      "**Execution.**"
     ]
    },
    {
     "cell_type": "markdown",
     "metadata": {},
     "source": [
      "        Terminal> python distance.py\n",
      "        1.025\n"
     ]
    },
    {
     "cell_type": "markdown",
     "metadata": {},
     "source": [
      "### Assignment statements assign a name to an object"
     ]
    },
    {
     "cell_type": "code",
     "collapsed": false,
     "input": [
      "t = 0.5                   # real number makes float object\n",
      "v0 = 2                    # integer makes int object\n",
      "a = 0.2                   # float object\n",
      "s = v0*t + 0.5*a*t**2     # float object\n"
     ],
     "language": "python",
     "metadata": {},
     "outputs": [],
     "prompt_number": 1
    },
    {
     "cell_type": "markdown",
     "metadata": {},
     "source": [
      "Rule: evaluate right-hand side object, left-hand side is a name for\n",
      "that object\n",
      "\n",
      "\n",
      "### Formatted output with text and numbers\n",
      "<a name=\"basics:printf\"></a>\n",
      "\n",
      " * Task: write out `s=1.025`\n",
      "\n",
      " * Method: printf syntax"
     ]
    },
    {
     "cell_type": "code",
     "collapsed": false,
     "input": [
      "print 's=%g' % s       # g: compact notation\n",
      "print 's=%.2f' % s     # f: decimal notation, .2f: 2 decimals\n"
     ],
     "language": "python",
     "metadata": {},
     "outputs": [],
     "prompt_number": 1
    },
    {
     "cell_type": "markdown",
     "metadata": {},
     "source": [
      "Modern alternative: format string syntax"
     ]
    },
    {
     "cell_type": "code",
     "collapsed": false,
     "input": [
      "print 's={s:.2f}'.format(s=s)\n"
     ],
     "language": "python",
     "metadata": {},
     "outputs": [],
     "prompt_number": 1
    },
    {
     "cell_type": "markdown",
     "metadata": {},
     "source": [
      "### Programming with a while loop\n",
      "<a name=\"basics:while\"></a>\n",
      "\n",
      "\n",
      " * Task: write out a table of $t$ and $s(t)$ values (two columns),\n",
      "   for $t\\in [0,2]$ in steps of 0.1\n",
      "\n",
      " * Method: while loop"
     ]
    },
    {
     "cell_type": "code",
     "collapsed": false,
     "input": [
      "v0 = 2\n",
      "a = 0.2\n",
      "dt = 0.1  # Increment\n",
      "t = 0     # Start value\n",
      "while t <= 2:\n",
      "    s = v0*t + 0.5*a*t**2\n",
      "    print t, s\n",
      "    t = t + dt\n"
     ],
     "language": "python",
     "metadata": {},
     "outputs": [],
     "prompt_number": 1
    },
    {
     "cell_type": "markdown",
     "metadata": {},
     "source": [
      "### Output of the previous program"
     ]
    },
    {
     "cell_type": "markdown",
     "metadata": {},
     "source": [
      "        Terminal> python while.py\n",
      "        0 0.0\n",
      "        0.1 0.201\n",
      "        0.2 0.404\n",
      "        0.3 0.609\n",
      "        0.4 0.816\n",
      "        0.5 1.025\n",
      "        0.6 1.236\n",
      "        0.7 1.449\n",
      "        0.8 1.664\n",
      "        0.9 1.881\n",
      "        1.0 2.1\n",
      "        1.1 2.321\n",
      "        1.2 2.544\n",
      "        1.3 2.769\n",
      "        1.4 2.996\n",
      "        1.5 3.225\n",
      "        1.6 3.456\n",
      "        1.7 3.689\n",
      "        1.8 3.924\n",
      "        1.9 4.161\n"
     ]
    },
    {
     "cell_type": "markdown",
     "metadata": {},
     "source": [
      "### Structure of a while loop"
     ]
    },
    {
     "cell_type": "code",
     "collapsed": false,
     "input": [
      "while condition:\n",
      "    <intented statement>\n",
      "    <intented statement>\n",
      "    <intented statement>\n"
     ],
     "language": "python",
     "metadata": {},
     "outputs": [],
     "prompt_number": 1
    },
    {
     "cell_type": "markdown",
     "metadata": {},
     "source": [
      "Note:\n",
      "\n",
      " * the colon in the first line\n",
      "\n",
      " * all statements in the loop must be indented\n",
      "\n",
      " * `condition` is a boolean expression (e.g., `t <= 2`)\n",
      "\n",
      "### The Python Online Tutor can help you understand the program flow\n",
      "\n",
      "[Python Online Tutor](http://pythontutor.com/visualize.html#mode=edit)\n",
      "lets you step through the program and examine variables."
     ]
    },
    {
     "cell_type": "code",
     "collapsed": false,
     "input": [
      "a = 1\n",
      "da = 0.5\n",
      "while a <= 3:\n",
      "    print a\n",
      "    a = a + da\n"
     ],
     "language": "python",
     "metadata": {},
     "outputs": [],
     "prompt_number": 1
    },
    {
     "cell_type": "markdown",
     "metadata": {},
     "source": [
      "### Lists\n",
      "<a name=\"basics:list\"></a>\n",
      "\n",
      "\n",
      "A list collects several variables (objects) in a given sequence:"
     ]
    },
    {
     "cell_type": "code",
     "collapsed": false,
     "input": [
      "L = [-1, 1, 8.0]\n"
     ],
     "language": "python",
     "metadata": {},
     "outputs": [],
     "prompt_number": 1
    },
    {
     "cell_type": "markdown",
     "metadata": {},
     "source": [
      "A list can contain any type of objects, e.g.,"
     ]
    },
    {
     "cell_type": "code",
     "collapsed": false,
     "input": [
      "L = ['mydata.txt', 3.14, 10]\n"
     ],
     "language": "python",
     "metadata": {},
     "outputs": [],
     "prompt_number": 1
    },
    {
     "cell_type": "markdown",
     "metadata": {},
     "source": [
      "Some basic list operations:"
     ]
    },
    {
     "cell_type": "code",
     "collapsed": false,
     "input": [
      "L = ['mydata.txt', 3.14, 10]\n",
      "print L[0]\n",
      "print L[1]\n",
      "del L[0]  # delete the first element\n",
      "print L\n",
      "print len(L)  # length of L\n",
      "L.append(-1)  # add -1 at the end of the list\n",
      "print L"
     ],
     "language": "python",
     "metadata": {},
     "outputs": [],
     "prompt_number": 1
    },
    {
     "cell_type": "markdown",
     "metadata": {},
     "source": [
      "### Store our table in two lists, one for each column\n",
      "\n",
      "<!-- @@@CODE src-bumpy/while_list.py -->\n",
      "\n",
      "### For loops\n",
      "<a name=\"basics:for\"></a>\n",
      "\n",
      "\n",
      "A for loop is used for visiting elements in a list, one by one:"
     ]
    },
    {
     "cell_type": "code",
     "collapsed": false,
     "input": [
      "L = [1, 4, 8, 9]\n",
      "for e in L:\n",
      "    print e"
     ],
     "language": "python",
     "metadata": {},
     "outputs": [],
     "prompt_number": 1
    },
    {
     "cell_type": "markdown",
     "metadata": {},
     "source": [
      "Demo in the Python Online Tutor:"
     ]
    },
    {
     "cell_type": "code",
     "collapsed": false,
     "input": [
      "list1 = [0, 0.1, 0.2]\n",
      "list2 = []\n",
      "for element in list1:\n",
      "    p = element + 2\n",
      "    list2.append(p)\n",
      "print list2\n"
     ],
     "language": "python",
     "metadata": {},
     "outputs": [],
     "prompt_number": 1
    },
    {
     "cell_type": "markdown",
     "metadata": {},
     "source": [
      "### For loops used traditionally an integer counter over list/array indices"
     ]
    },
    {
     "cell_type": "code",
     "collapsed": false,
     "input": [
      "for i in range(len(somelist)):\n",
      "    # Work with somelist[i]\n"
     ],
     "language": "python",
     "metadata": {},
     "outputs": [],
     "prompt_number": 1
    },
    {
     "cell_type": "markdown",
     "metadata": {},
     "source": [
      "Note:\n",
      "\n",
      " * `range` returns a list of integers\n",
      "\n",
      " * `range(a, b, s)` returns the integers\n",
      "   `a, a+s, a+2*s, ...` up to *but not including* (!!) `b`\n",
      "\n",
      " * `range(b)` implies `a=0` and `s=1`\n",
      "\n",
      " * `range(len(somelist))` returns `[0, 1, 2]`\n",
      "\n",
      "### Let's replace our while loop by a for loop"
     ]
    },
    {
     "cell_type": "code",
     "collapsed": false,
     "input": [
      "v0 = 2\n",
      "a = 0.2\n",
      "dt = 0.1  # Increment\n",
      "t_values = []\n",
      "s_values = []\n",
      "n = int(round(2/dt)) + 1  # No of t values\n",
      "for i in range(n):\n",
      "    t = i*dt\n",
      "    s = v0*t + 0.5*a*t**2\n",
      "    t_values.append(t)\n",
      "    s_values.append(s)\n",
      "print s_values  # Just take a look at a created list\n",
      "\n",
      "# Make nicely formatted table\n",
      "for t, s in zip(t_values, s_values):\n",
      "    print '%.2f  %.4f' % (t, s)\n",
      "\n",
      "# Alternative\n",
      "for i in range(len(t_values)):\n",
      "    print '%.2f  %.4f' % (t_values[i], s_values[i])\n"
     ],
     "language": "python",
     "metadata": {},
     "outputs": [],
     "prompt_number": 1
    },
    {
     "cell_type": "markdown",
     "metadata": {},
     "source": [
      "### Traversal of multiple lists at the same time with `zip`"
     ]
    },
    {
     "cell_type": "code",
     "collapsed": false,
     "input": [
      "for e1, e2, e3, ... in zip(list1, list2, list3, ...):\n"
     ],
     "language": "python",
     "metadata": {},
     "outputs": [],
     "prompt_number": 1
    },
    {
     "cell_type": "markdown",
     "metadata": {},
     "source": [
      "Alternative: loop over a common index for the lists"
     ]
    },
    {
     "cell_type": "code",
     "collapsed": false,
     "input": [
      "for i in range(len(list1)):\n",
      "    e1 = list1[i]\n",
      "    e2 = list2[i]\n",
      "    ...\n"
     ],
     "language": "python",
     "metadata": {},
     "outputs": [],
     "prompt_number": 1
    },
    {
     "cell_type": "markdown",
     "metadata": {},
     "source": [
      "### Arrays\n",
      "<a name=\"basics:numpy\"></a>\n",
      "\n",
      "\n",
      " * List: collect a set of numbers or other objects\n",
      "   in a single variable\n",
      "\n",
      " * Lists are very flexible (can grow, can contain \"anything\")\n",
      "\n",
      " * Array: computationally efficient and convenient list\n",
      "\n",
      " * Arrays must have fixed length and can only contain numbers of\n",
      "   the same type (integers, real numbers, complex numbers)\n",
      "\n",
      " * Arrays require the `numpy` module"
     ]
    },
    {
     "cell_type": "code",
     "collapsed": false,
     "input": [
      "import numpy\n",
      "L = [1, 4, 10.0]    # List of numbers\n",
      "a = numpy.array(L)  # Make corresponding array\n",
      "print a\n",
      "print a[1]\n",
      "print a.dtype       # Data type of an element\n",
      "b = 2*a + 1\n",
      "print b"
     ],
     "language": "python",
     "metadata": {},
     "outputs": [],
     "prompt_number": 1
    },
    {
     "cell_type": "markdown",
     "metadata": {},
     "source": [
      "### `numpy` functions creates entire arrays at once"
     ]
    },
    {
     "cell_type": "code",
     "collapsed": false,
     "input": [
      "c = numpy.log(a)  # Take ln of all elements in a\n",
      "print c"
     ],
     "language": "python",
     "metadata": {},
     "outputs": [],
     "prompt_number": 1
    },
    {
     "cell_type": "markdown",
     "metadata": {},
     "source": [
      "Create $n+1$ uniformly distributed coordinates in $[a,b]$:"
     ]
    },
    {
     "cell_type": "code",
     "collapsed": false,
     "input": [
      "t = numpy.linspace(a, b, n+1)\n"
     ],
     "language": "python",
     "metadata": {},
     "outputs": [],
     "prompt_number": 1
    },
    {
     "cell_type": "markdown",
     "metadata": {},
     "source": [
      "### Let's use arrays in our previous program"
     ]
    },
    {
     "cell_type": "code",
     "collapsed": false,
     "input": [
      "import numpy\n",
      "v0 = 2\n",
      "a = 0.2\n",
      "dt = 0.1  # Increment\n",
      "n = int(round(2/dt)) + 1  # No of t values\n",
      "\n",
      "t_values = numpy.linspace(0, 2, n+1)\n",
      "s_values = v0*t + 0.5*a*t**2\n",
      "\n",
      "# Make nicely formatted table\n",
      "for t, s in zip(t_values, s_values):\n",
      "    print '%.2f  %.4f' % (t, s)\n"
     ],
     "language": "python",
     "metadata": {},
     "outputs": [],
     "prompt_number": 1
    },
    {
     "cell_type": "markdown",
     "metadata": {},
     "source": [
      "### Standard mathematical functions are found in the `math` module\n",
      "<a name=\"basics:math\"></a>"
     ]
    },
    {
     "cell_type": "code",
     "collapsed": false,
     "input": [
      "import math\n",
      "print math.sin(math.pi)"
     ],
     "language": "python",
     "metadata": {},
     "outputs": [],
     "prompt_number": 1
    },
    {
     "cell_type": "markdown",
     "metadata": {},
     "source": [
      "Get rid of the `math` prefix:"
     ]
    },
    {
     "cell_type": "code",
     "collapsed": false,
     "input": [
      "from math import sin, pi\n",
      "print sin(pi)\n",
      "\n",
      "# Or import everything from math\n",
      "from math import *\n",
      "print sin(pi), log(e), tanh(0.5)\n"
     ],
     "language": "python",
     "metadata": {},
     "outputs": [],
     "prompt_number": 1
    },
    {
     "cell_type": "markdown",
     "metadata": {},
     "source": [
      "### Use the `numpy` module for standard mathematical functions applied to arrays\n",
      "\n",
      "\n",
      "Matlab users can do"
     ]
    },
    {
     "cell_type": "code",
     "collapsed": false,
     "input": [
      "from numpy import *\n"
     ],
     "language": "python",
     "metadata": {},
     "outputs": [],
     "prompt_number": 1
    },
    {
     "cell_type": "markdown",
     "metadata": {},
     "source": [
      "The Python community likes"
     ]
    },
    {
     "cell_type": "code",
     "collapsed": false,
     "input": [
      "import numpy as np\n",
      "print np.sin(np.pi)\n"
     ],
     "language": "python",
     "metadata": {},
     "outputs": [],
     "prompt_number": 1
    },
    {
     "cell_type": "markdown",
     "metadata": {},
     "source": [
      "Our convention: use `np` prefix, but not in formulas involving\n",
      "math functions"
     ]
    },
    {
     "cell_type": "code",
     "collapsed": false,
     "input": [
      "import numpy as np\n",
      "from numpy import sin, exp\n",
      "t = np.linspace(0, 4, 1001)\n",
      "p = exp(-t)*sin(2*t)\n"
     ],
     "language": "python",
     "metadata": {},
     "outputs": [],
     "prompt_number": 1
    },
    {
     "cell_type": "markdown",
     "metadata": {},
     "source": [
      "### Plotting\n",
      "<a name=\"basics:plot\"></a>\n",
      "\n",
      "\n",
      "Plotting is done with `matplotlib`:\n",
      "\n",
      "<!-- @@@CODE src-bumpy/plot1.py -->\n",
      "\n",
      "### Plotting of multiple curves\n",
      "\n",
      "<!-- @@@CODE src-bumpy/plot1.py -->\n",
      "\n",
      "\n",
      "\n",
      "## Functions and branching\n",
      "<a name=\"basics:func:branching\"></a>\n",
      "\n",
      "\n",
      "<p></p>\n",
      "<img src=\"fig-bumpy/branching3.jpg\" width=500>\n",
      "\n",
      "\n",
      "\n",
      "### Functions\n",
      "<a name=\"basics:func\"></a>\n",
      "\n",
      " * $s(t)=v_0t + \\frac{1}{2}at^2$ is a mathematical function\n",
      "\n",
      " * Can implement $s(t)$ as a Python function `s(t)`"
     ]
    },
    {
     "cell_type": "code",
     "collapsed": false,
     "input": [
      "def s(t):\n",
      "    return v0*t + 0.5*a*t**2\n",
      "\n",
      "v0 = 0.2\n",
      "a = 4\n",
      "value = s(3)   # Call the function\n"
     ],
     "language": "python",
     "metadata": {},
     "outputs": [],
     "prompt_number": 1
    },
    {
     "cell_type": "markdown",
     "metadata": {},
     "source": [
      "Note:\n",
      "\n",
      " * functions start with the keyword `def`\n",
      "\n",
      " * statements belonging to the function must be indented\n",
      "\n",
      " * function input is represented by arguments\n",
      "   (separated by comma if more than one)\n",
      "\n",
      " * function output is returned to the calling code\n",
      "\n",
      " * `v0` and `a` are *global variables*\n",
      "\n",
      " * `v0` and `a` must be initialzed before `s` is called\n",
      "\n",
      "### Functions can have multiple arguments\n",
      "\n",
      "`v0` and `a` as function arguments instead of global variables:"
     ]
    },
    {
     "cell_type": "code",
     "collapsed": false,
     "input": [
      "def s(t, v0, a):\n",
      "    return v0*t + 0.5*a*t**2\n",
      "\n",
      "value = s(3, 0.2, 4)   # Call the function\n",
      "\n",
      "# More readable call\n",
      "value = s(t=3, v0=0.2, a=4)\n"
     ],
     "language": "python",
     "metadata": {},
     "outputs": [],
     "prompt_number": 1
    },
    {
     "cell_type": "markdown",
     "metadata": {},
     "source": [
      "### Keyword arguments are arguments with default values"
     ]
    },
    {
     "cell_type": "code",
     "collapsed": false,
     "input": [
      "def s(t, v0=1, a=1):\n",
      "    return v0*t + 0.5*a*t**2\n",
      "\n",
      "value = s(3, 0.2, 4)         # specify new v0 and a\n",
      "value = s(3)                 # rely on v0=1 and a=1\n",
      "value = s(3, a=2)            # rely on v0=1\n",
      "value = s(3, v0=2)           # rely on a=1\n",
      "value = s(t=3, v0=2, a=2)    # specify everything\n",
      "value = s(a=2, t=3, v0=2)    # any sequence allowed\n"
     ],
     "language": "python",
     "metadata": {},
     "outputs": [],
     "prompt_number": 1
    },
    {
     "cell_type": "markdown",
     "metadata": {},
     "source": [
      "* Arguments without the argument name are called *positional arguments*\n",
      "\n",
      " * Positional arguments mustalways be listed before the keyword arguments\n",
      "   in the function and in any call\n",
      "\n",
      " * The sequence of the keyword arguments can be arbitrary\n",
      "\n",
      "### Vectorization speeds up the code\n",
      "\n",
      "\n",
      "Scalar code (work with one number at a time):"
     ]
    },
    {
     "cell_type": "code",
     "collapsed": false,
     "input": [
      "def s(t, v0, a):\n",
      "    return v0*t + 0.5*a*t**2\n",
      "\n",
      "for i in range(len(t)):\n",
      "    s_values[i] = s(t_values[i], v0, a)\n"
     ],
     "language": "python",
     "metadata": {},
     "outputs": [],
     "prompt_number": 1
    },
    {
     "cell_type": "markdown",
     "metadata": {},
     "source": [
      "Vectorized code: apply `s` to the entire array"
     ]
    },
    {
     "cell_type": "code",
     "collapsed": false,
     "input": [
      "s_values = s(t_values, v0, a)\n"
     ],
     "language": "python",
     "metadata": {},
     "outputs": [],
     "prompt_number": 1
    },
    {
     "cell_type": "markdown",
     "metadata": {},
     "source": [
      "How can this work?\n",
      "\n",
      " * Array: `t`\n",
      "\n",
      " * Expression: v0*t + 0.5*a*t**2\n",
      "\n",
      " * `r1 = v0*t`  (scalar times array)\n",
      "\n",
      " * `r2 = t**2`  (square each element)\n",
      "\n",
      " * `r3 = 0.5*a*r2` (scalar times array)\n",
      "\n",
      " * `r1 + r3` (add each element)\n",
      "\n",
      "### Python functions written for scalars normally work for arrays too!\n",
      "\n",
      "True if computations involve arithmetic operations and math functions:"
     ]
    },
    {
     "cell_type": "code",
     "collapsed": false,
     "input": [
      "from math import exp, sin\n",
      "\n",
      "def f(x):\n",
      "    return 2*x + x**2*exp(-x)*sin(x)\n",
      "\n",
      "v = f(4)  # f(x) works with scalar x\n",
      "\n",
      "# Redefine exp and sin with their vectorized versions\n",
      "from numpy import exp, sin, linspace\n",
      "x = linspace(0, 4, 100001)\n",
      "v = f(x)  # f(x) works with array x\n"
     ],
     "language": "python",
     "metadata": {},
     "outputs": [],
     "prompt_number": 1
    },
    {
     "cell_type": "markdown",
     "metadata": {},
     "source": [
      "However, if tests are not allowed:"
     ]
    },
    {
     "cell_type": "code",
     "collapsed": false,
     "input": [
      "def f(x):\n",
      "    return -1 if x < 0 else x**4*exp(-x)*sin(x)\n",
      "\n",
      "x = linspace(0, 4, 100001)\n",
      "v = f(x)  # will not work\n"
     ],
     "language": "python",
     "metadata": {},
     "outputs": [],
     "prompt_number": 1
    },
    {
     "cell_type": "markdown",
     "metadata": {},
     "source": [
      "### Python functions can return multiple values\n",
      "\n",
      "Return $s(t)=v_0t+\\frac{1}{2}at^2$ and $s'(t)=v_0 + at$:"
     ]
    },
    {
     "cell_type": "code",
     "collapsed": false,
     "input": [
      "def movement(t, v0, a):\n",
      "    s = v0*t + 0.5*a*t**2\n",
      "    v = v0 + a*t\n",
      "    return s, v\n",
      "\n",
      "s_value, v_value = movement(t=0.2, v0=2, a=4)\n"
     ],
     "language": "python",
     "metadata": {},
     "outputs": [],
     "prompt_number": 1
    },
    {
     "cell_type": "markdown",
     "metadata": {},
     "source": [
      "`return s, v` means that we return a *tuple* ($\\approx$ list):"
     ]
    },
    {
     "cell_type": "code",
     "collapsed": false,
     "input": [
      "def f(x):\n",
      "    return x+1, x+2, x+3\n",
      "r = f(3)     # Store all three return values in one object r\n",
      "print r\n",
      "type(r)      # What type of object is r?\n",
      "print r[1]"
     ],
     "language": "python",
     "metadata": {},
     "outputs": [],
     "prompt_number": 1
    },
    {
     "cell_type": "markdown",
     "metadata": {},
     "source": [
      "Tuples are constant lists (cannot be changed)\n",
      "\n",
      "### A more general mathematical formula\n",
      "<a name=\"basics:formula:piecewise\"></a>\n",
      "\n",
      "Equations from basic kinematics:"
     ]
    },
    {
     "cell_type": "markdown",
     "metadata": {},
     "source": [
      "$$\n",
      "\\begin{align*}\n",
      "v = \\frac{ds}{dt},\\quad s(0)=s_0\\\\ \n",
      "a = \\frac{dv}{dt},\\quad v(0)=v_0\n",
      "\\end{align*}\n",
      "$$"
     ]
    },
    {
     "cell_type": "markdown",
     "metadata": {},
     "source": [
      "Integrate to find $v(t)$:"
     ]
    },
    {
     "cell_type": "markdown",
     "metadata": {},
     "source": [
      "$$\n",
      "\\int_0^t a(t)dt = \\int_0^t \\frac{dv}{dt} dt\n",
      "$$"
     ]
    },
    {
     "cell_type": "markdown",
     "metadata": {},
     "source": [
      "which gives"
     ]
    },
    {
     "cell_type": "markdown",
     "metadata": {},
     "source": [
      "$$\n",
      "v(t) = v_0 + \\int_0^t a(t)dt\n",
      "$$"
     ]
    },
    {
     "cell_type": "markdown",
     "metadata": {},
     "source": [
      "Integrate again over $[0,t]$ to find $s(t)$:"
     ]
    },
    {
     "cell_type": "markdown",
     "metadata": {},
     "source": [
      "$$\n",
      "s(t) = s_0 + v_0t + \\int_0^t\\left( \\int_0^t a(t)dt \\right) dt\n",
      "$$"
     ]
    },
    {
     "cell_type": "markdown",
     "metadata": {},
     "source": [
      "$a(t)=a_0$ for $t\\in[0,t_1]$, else $a(t)=0$:"
     ]
    },
    {
     "cell_type": "markdown",
     "metadata": {},
     "source": [
      "$$\n",
      "s(t) = \\left\\lbrace\\begin{array}{ll}\n",
      "s_0 + v_0 t + \\frac{1}{2}a_0 t^2,& t\\leq t_1\\\\ \n",
      "s_0 + v_0t_1 + \\frac{1}{2}a_0 t_1^2 + a_0t_1(t-t_1),& t> t_1\n",
      "\\end{array}\\right.\n",
      "$$"
     ]
    },
    {
     "cell_type": "markdown",
     "metadata": {},
     "source": [
      "Need *if test* to implement this!\n",
      "\n",
      "### Basic if-else tests\n",
      "<a name=\"basics:if\"></a>\n",
      "\n",
      "\n",
      "An if test has the structure"
     ]
    },
    {
     "cell_type": "code",
     "collapsed": false,
     "input": [
      "if condition:\n",
      "    <statements when condition is True>\n",
      "else:\n",
      "    <statements when condition is False>\n"
     ],
     "language": "python",
     "metadata": {},
     "outputs": [],
     "prompt_number": 1
    },
    {
     "cell_type": "markdown",
     "metadata": {},
     "source": [
      "Here,\n",
      "\n",
      " * `condition` is a boolean expression with value `True` or\n",
      "   `False`."
     ]
    },
    {
     "cell_type": "code",
     "collapsed": false,
     "input": [
      "if t <= t1:\n",
      "    s = v0*t + 0.5*a0*t**2\n",
      "else:\n",
      "    s = v0*t + 0.5*a0*t1**2 + a0*t1*(t-t1)\n"
     ],
     "language": "python",
     "metadata": {},
     "outputs": [],
     "prompt_number": 1
    },
    {
     "cell_type": "markdown",
     "metadata": {},
     "source": [
      "### Multi-branch if tests"
     ]
    },
    {
     "cell_type": "code",
     "collapsed": false,
     "input": [
      "if condition1:\n",
      "    <statements when condition1 is True>\n",
      "elif condition2:\n",
      "    <statements when condition1 is False and condition2 is True>\n",
      "elif condition3:\n",
      "    <statements when condition1 and conditon 2 are False\n",
      "     and condition3 is True>\n",
      "else:\n",
      "    <statements when condition1/2/3 all are False>\n"
     ],
     "language": "python",
     "metadata": {},
     "outputs": [],
     "prompt_number": 1
    },
    {
     "cell_type": "markdown",
     "metadata": {},
     "source": [
      "Just if, no else:"
     ]
    },
    {
     "cell_type": "code",
     "collapsed": false,
     "input": [
      "if condition:\n",
      "    <statements when condition is True>\n"
     ],
     "language": "python",
     "metadata": {},
     "outputs": [],
     "prompt_number": 1
    },
    {
     "cell_type": "markdown",
     "metadata": {},
     "source": [
      "### Implementation of a piecewisely defined function with if\n",
      "\n",
      "A Python function implementing the mathematical function \n",
      "reads"
     ]
    },
    {
     "cell_type": "markdown",
     "metadata": {},
     "source": [
      "$$\n",
      "s(t) = \\left\\lbrace\\begin{array}{ll}\n",
      "s_0 + v_0 t + \\frac{1}{2}a_0 t^2,& t\\leq t_1\\\\ \n",
      "s_0 + v_0t_1 + \\frac{1}{2}a_0 t_1^2 + a_0t_1(t-t_1),& t> t_1\n",
      "\\end{array}\\right.\n",
      "$$"
     ]
    },
    {
     "cell_type": "code",
     "collapsed": false,
     "input": [
      "def s_func(t, v0, a0, t1):\n",
      "    if t <= t1:\n",
      "        s = v0*t + 0.5*a0*t**2\n",
      "    else:\n",
      "        s = v0*t + 0.5*a0*t1**2 + a0*t1*(t-t1)\n",
      "    return s\n"
     ],
     "language": "python",
     "metadata": {},
     "outputs": [],
     "prompt_number": 1
    },
    {
     "cell_type": "markdown",
     "metadata": {},
     "source": [
      "### Python functions containing if will not accept array arguments"
     ]
    },
    {
     "cell_type": "code",
     "collapsed": false,
     "input": [
      "def f(x): return x if x < 1 else 2*x\n",
      "import numpy as np\n",
      "x = np.linspace(0, 2, 5)\n",
      "f(x)"
     ],
     "language": "python",
     "metadata": {},
     "outputs": [],
     "prompt_number": 1
    },
    {
     "cell_type": "markdown",
     "metadata": {},
     "source": [
      "Problem: `x < 1` evaluates to a boolean array, not just a boolean\n",
      "\n",
      "### Remedy 1: Call the function with scalar arguments"
     ]
    },
    {
     "cell_type": "code",
     "collapsed": false,
     "input": [
      "n = 201  # No of t values for plotting\n",
      "t1 = 1.5\n",
      "\n",
      "t = np.linspace(0, 2, n+1)\n",
      "s = np.zeros(n+1)\n",
      "for i in range(len(t)):\n",
      "    s[i] = s_func(t=t[i], v0=0.2, a0=20, t1=t1)\n"
     ],
     "language": "python",
     "metadata": {},
     "outputs": [],
     "prompt_number": 1
    },
    {
     "cell_type": "markdown",
     "metadata": {},
     "source": [
      "Can now easily plot:"
     ]
    },
    {
     "cell_type": "code",
     "collapsed": false,
     "input": [
      "plt.plot(t, s, 'b-')\n",
      "plt.plot([t1, t1], [0, s_func(t=t1, v0=0.2, a0=20, t1=t1)], 'r--')\n",
      "plt.xlabel('t')\n",
      "plt.ylabel('s')\n",
      "plt.savefig('myplot.png')\n",
      "plt.show()\n"
     ],
     "language": "python",
     "metadata": {},
     "outputs": [],
     "prompt_number": 1
    },
    {
     "cell_type": "markdown",
     "metadata": {},
     "source": [
      "### Remedy 2: Vectorize the if test with `where`\n",
      "\n",
      "\n",
      "Functions with if tests require a complete rewrite to work with\n",
      "arrays."
     ]
    },
    {
     "cell_type": "code",
     "collapsed": false,
     "input": [
      "s = np.where(condition, s1, s2)\n"
     ],
     "language": "python",
     "metadata": {},
     "outputs": [],
     "prompt_number": 1
    },
    {
     "cell_type": "markdown",
     "metadata": {},
     "source": [
      "Explanation:\n",
      "\n",
      " * `condition`: array of boolean values\n",
      "\n",
      " * `s[i] = s1[i]` if `condition[i]` is `True`\n",
      "\n",
      " * `s[i] = s2[i]` if `condition[i]` is `False`\n",
      "\n",
      "Our example then becomes"
     ]
    },
    {
     "cell_type": "code",
     "collapsed": false,
     "input": [
      "s = np.where(t <= t1,\n",
      "             v0*t + 0.5*a0*t**2,\n",
      "             v0*t + 0.5*a0*t1**2 + a0*t1*(t-t1))\n"
     ],
     "language": "python",
     "metadata": {},
     "outputs": [],
     "prompt_number": 1
    },
    {
     "cell_type": "markdown",
     "metadata": {},
     "source": [
      "Note that `t <= t1` with array `t` and scalar `t1` results in a boolean\n",
      "array `b` where `b[i] = t[i] <= t1`.\n",
      "\n",
      "### Remedy 3: Vectorize the if test with array indexing\n",
      "\n",
      " * Let `b` be a boolean array (e.g., `b = t <= t1`)\n",
      "\n",
      " * `s[b]` selects all elements `s[i]` where `b[i]` is `True`\n",
      "\n",
      " * Can assign some array expression `expr` of length\n",
      "   `len(s[b])` to `s[b]`: `s[b] = (expr)[b]`\n",
      "\n",
      "Our example can utilize this technique with `b` as `t <= t1` and `t > t1`:"
     ]
    },
    {
     "cell_type": "code",
     "collapsed": false,
     "input": [
      "s = np.zeros_like(t)  # Make s as zeros, same size & type as t\n",
      "s[t <= t1] = (v0*t + 0.5*a0*t**2)[t <= t1]\n",
      "s[t > t1]  = (v0*t + 0.5*a0*t1**2 + a0*t1*(t-t1))[t > t1]\n"
     ],
     "language": "python",
     "metadata": {},
     "outputs": [],
     "prompt_number": 1
    },
    {
     "cell_type": "markdown",
     "metadata": {},
     "source": [
      "## Classes\n",
      "<a name=\"basics:class\"></a>\n",
      "\n",
      " * All objects in Python are made from a class\n",
      "\n",
      " * You don't need to know about classes to use Python\n",
      "\n",
      " * But class programming is powerful\n",
      "\n",
      "\n",
      "\n",
      " * Class = functions + variables packed together\n",
      "\n",
      " * A class is a logical unit in a program\n",
      "\n",
      " * A large program as a combination of appropriate units\n",
      "\n",
      "\n",
      "\n",
      "### A very simple class\n",
      "\n",
      " * One variable: `a`\n",
      "\n",
      " * One function: `dump` for printing `a`"
     ]
    },
    {
     "cell_type": "code",
     "collapsed": false,
     "input": [
      "class Trivial:\n",
      "    def __init__(self, a):\n",
      "        self.a = a\n",
      "\n",
      "    def dump(self):\n",
      "        print self.a\n"
     ],
     "language": "python",
     "metadata": {},
     "outputs": [],
     "prompt_number": 1
    },
    {
     "cell_type": "markdown",
     "metadata": {},
     "source": [
      "Class terminology: Functions are called\n",
      "*methods* and variables are called *attributes*.\n",
      "\n",
      "### How can we use this class?\n",
      "\n",
      "First, make an *instance* (object) of the class:"
     ]
    },
    {
     "cell_type": "code",
     "collapsed": false,
     "input": [
      "t = Trivial(a=4)\n",
      "t.dump()\n"
     ],
     "language": "python",
     "metadata": {},
     "outputs": [],
     "prompt_number": 1
    },
    {
     "cell_type": "markdown",
     "metadata": {},
     "source": [
      "Note:\n",
      "\n",
      " * The syntax `Trivial(a=4)` actually means `Trivial.__init__(t, 4)`\n",
      "\n",
      " * `self` is an argument in `__init__` and `dump`, but not used in the calls\n",
      "\n",
      " * `__init__` is called *constructor* and is used to construct an object\n",
      "   (instance) if the class\n",
      "\n",
      "### The `self` argument is a difficult thing for newcomers...\n",
      "\n",
      "It takes time and experience to understand the `self` argument in\n",
      "class methods!\n",
      "\n",
      "1. `self` must always be the first argument\n",
      "\n",
      "2. `self` is never used in calls\n",
      "\n",
      "3. `self` is used to access attributes and methods inside methods\n",
      "\n",
      "We refer to a [more comprehensive text on classes](http://hplgit.github.io/primer.html/doc/pub/class/index.html)\n",
      "for better explanation of `self`.\n",
      "\n",
      "`self` is confusing in the beginning, but later it greatly helps\n",
      "the understanding of how classes work!\n",
      "\n",
      "\n",
      "\n",
      "### A class for representing a mathematical function\n",
      "\n",
      "Function with one independent variable $t$ and two parameters\n",
      "$v_0$ and $a$:"
     ]
    },
    {
     "cell_type": "markdown",
     "metadata": {},
     "source": [
      "$$\n",
      "s(t; v_0, a) = v_0t + \\frac{1}{2}at^2\n",
      "$$"
     ]
    },
    {
     "cell_type": "markdown",
     "metadata": {},
     "source": [
      "Class representation of this function:\n",
      "\n",
      " * `v0` and `a` are variables (data)\n",
      "\n",
      " * A method to evaluate $s(t)$, but just function of `t`\n",
      "\n",
      "Usage:"
     ]
    },
    {
     "cell_type": "code",
     "collapsed": false,
     "input": [
      "s = Distance(v0=2, a=0.5)  # create instance\n",
      "v = s(t=0.2)               # compute formula\n"
     ],
     "language": "python",
     "metadata": {},
     "outputs": [],
     "prompt_number": 1
    },
    {
     "cell_type": "markdown",
     "metadata": {},
     "source": [
      "### The class code"
     ]
    },
    {
     "cell_type": "code",
     "collapsed": false,
     "input": [
      "class Distance:\n",
      "    def __init__(self, v0, a):\n",
      "        self.v0 = v0\n",
      "        self.a = a\n",
      "\n",
      "    def __call__(self, t):\n",
      "        v0, a = self.v0, self.a  # make local variables\n",
      "        return v0*t + 0.5*a*t**2\n",
      "\n",
      "s = Distance(v0=2, a=0.5)  # create instance\n",
      "v = s(t=0.2)               # actually s.__call__(t=0.2)\n"
     ],
     "language": "python",
     "metadata": {},
     "outputs": [],
     "prompt_number": 1
    },
    {
     "cell_type": "markdown",
     "metadata": {},
     "source": [
      "### Class implementation of $f(x,y,z; p_1,p_2,\\ldots,p_n)$\n",
      "\n",
      " * The $n$ parameters $p_1,p_2,\\ldots,p_n$ are attributes\n",
      "\n",
      " * `__call__(self, x, y, z)` is used to compute $f(x, y, z)$"
     ]
    },
    {
     "cell_type": "code",
     "collapsed": false,
     "input": [
      "class F:\n",
      "    def __init__(self, p1, p2, ...):\n",
      "        self.p1 = p1\n",
      "        self.p2 = p2\n",
      "        ...\n",
      "\n",
      "    def __call__(self, x, y, z):\n",
      "        # return formula involving x, y, z and self.p1, self.p2 ...\n",
      "\n",
      "f = F(p1=..., p2=..., ...)   # create instance with parameters\n",
      "print f(1, 4, -1)            # evaluate f(x,y,z) function\n"
     ],
     "language": "python",
     "metadata": {},
     "outputs": [],
     "prompt_number": 1
    }
   ],
   "metadata": {}
  }
 ]
}
